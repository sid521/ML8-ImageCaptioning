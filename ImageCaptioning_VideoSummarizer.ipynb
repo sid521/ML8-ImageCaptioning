{
  "nbformat": 4,
  "nbformat_minor": 0,
  "metadata": {
    "accelerator": "GPU",
    "celltoolbar": "Initialization Cell",
    "colab": {
      "name": "final_imgcap.ipynb",
      "provenance": [],
      "collapsed_sections": [],
      "include_colab_link": true
    },
    "kernelspec": {
      "display_name": "Python 3",
      "language": "python",
      "name": "python3"
    },
    "language_info": {
      "codemirror_mode": {
        "name": "ipython",
        "version": 3
      },
      "file_extension": ".py",
      "mimetype": "text/x-python",
      "name": "python",
      "nbconvert_exporter": "python",
      "pygments_lexer": "ipython3",
      "version": "3.7.0"
    },
    "toc": {
      "base_numbering": 1,
      "nav_menu": {},
      "number_sections": true,
      "sideBar": true,
      "skip_h1_title": false,
      "title_cell": "Table of Contents",
      "title_sidebar": "Contents",
      "toc_cell": false,
      "toc_position": {},
      "toc_section_display": true,
      "toc_window_display": false
    },
    "varInspector": {
      "cols": {
        "lenName": 16,
        "lenType": 16,
        "lenVar": 40
      },
      "kernels_config": {
        "python": {
          "delete_cmd_postfix": "",
          "delete_cmd_prefix": "del ",
          "library": "var_list.py",
          "varRefreshCmd": "print(var_dic_list())"
        },
        "r": {
          "delete_cmd_postfix": ") ",
          "delete_cmd_prefix": "rm(",
          "library": "var_list.r",
          "varRefreshCmd": "cat(var_dic_list()) "
        }
      },
      "types_to_exclude": [
        "module",
        "function",
        "builtin_function_or_method",
        "instance",
        "_Feature"
      ],
      "window_display": false
    }
  },
  "cells": [
    {
      "cell_type": "markdown",
      "metadata": {
        "id": "view-in-github",
        "colab_type": "text"
      },
      "source": [
        "<a href=\"https://colab.research.google.com/github/sid521/ML8-ImageCaptioning/blob/main/final_imgcap.ipynb\" target=\"_parent\"><img src=\"https://colab.research.google.com/assets/colab-badge.svg\" alt=\"Open In Colab\"/></a>"
      ]
    },
    {
      "cell_type": "code",
      "metadata": {
        "id": "2aY_MHTBGcx_"
      },
      "source": [
        "import numpy as np  # linear algebra\n",
        "import pandas as pd  # data processing, CSV file I/O (e.g. pd.read_csv)\n",
        "\n",
        "import os\n",
        "import tensorflow as tf\n",
        "import cv2\n",
        "from sklearn import preprocessing\n",
        "from tensorflow.keras import layers\n",
        "from tensorflow.keras.layers import Input, Add, Dense, Dropout, Activation, ZeroPadding2D, BatchNormalization, Flatten, Conv2D, AveragePooling2D, MaxPooling2D, GlobalMaxPooling2D, GlobalAveragePooling2D, Concatenate, ReLU, LeakyReLU, Reshape, Lambda\n",
        "from tensorflow.keras.callbacks import ModelCheckpoint\n",
        "from tensorflow.keras.optimizers import Adam, SGD\n",
        "from tensorflow.keras.models import Sequential, load_model, Model\n",
        "from tensorflow.keras.callbacks import LearningRateScheduler\n",
        "from tensorflow.keras.preprocessing import image\n",
        "from tensorflow.keras.utils import to_categorical\n",
        "from tensorflow.keras import metrics\n",
        "from tensorflow.keras.preprocessing.text import tokenizer_from_json\n",
        "from tensorflow.keras.metrics import categorical_accuracy, top_k_categorical_accuracy\n",
        "from tensorflow.keras.applications.imagenet_utils import preprocess_input\n",
        "from tensorflow.keras.initializers import glorot_uniform\n",
        "from tensorflow.keras import utils\n",
        "from tqdm import tqdm\n",
        "import matplotlib.pyplot as plt\n",
        "import collections\n",
        "import random\n",
        "import time\n",
        "#from sentence_transformers import SentenceTransformer\n",
        "from scipy.spatial.distance import cdist\n",
        "import matplotlib.image as mpimg\n",
        "import json\n",
        "from PIL import Image\n",
        "#from transformers import T5ForConditionalGeneration, T5Tokenizer"
      ],
      "execution_count": null,
      "outputs": []
    },
    {
      "cell_type": "code",
      "metadata": {
        "ExecuteTime": {
          "end_time": "2021-08-05T18:45:38.522023Z",
          "start_time": "2021-08-05T18:45:38.507816Z"
        },
        "id": "gpjWXdP90Rrm"
      },
      "source": [
        "# from tensorflow.compat.v1 import ConfigProto\n",
        "# from tensorflow.compat.v1 import InteractiveSession\n",
        "\n",
        "# config = ConfigProto()\n",
        "# config.gpu_options.allow_growth = True\n",
        "# session = InteractiveSession(config=config)\n"
      ],
      "execution_count": null,
      "outputs": []
    },
    {
      "cell_type": "code",
      "metadata": {
        "ExecuteTime": {
          "end_time": "2021-08-05T18:45:39.348672Z",
          "start_time": "2021-08-05T18:45:38.539037Z"
        },
        "init_cell": true,
        "id": "sKhnXOHh0Rro"
      },
      "source": [
        "import os\n",
        "os.environ[\"TF_FORCE_GPU_ALLOW_GROWTH\"]=\"true\"\n",
        "\n",
        "TF_FORCE_GPU_ALLOW_GROWTH=1\n",
        "\n",
        "physical_devices = tf.config.list_physical_devices('GPU')\n",
        "tf.config.experimental.set_memory_growth(physical_devices[0], True)"
      ],
      "execution_count": null,
      "outputs": []
    },
    {
      "cell_type": "markdown",
      "metadata": {
        "id": "yoSnQom20kju"
      },
      "source": [
        "## Download the coco dataset of images and their captions files\n",
        "MSCOCO captions dataset consists of 83,000 images with each image having 5 captions .Approximately 13GB"
      ]
    },
    {
      "cell_type": "code",
      "metadata": {
        "ExecuteTime": {
          "end_time": "2021-08-05T18:45:39.412641Z",
          "start_time": "2021-08-05T18:45:39.350638Z"
        },
        "id": "krQuPYTtRPE7",
        "init_cell": true
      },
      "source": [
        "# Download caption annotation files\n",
        "annotation_folder = '/annotations/'\n",
        "if not os.path.exists(os.path.abspath('.') + annotation_folder):\n",
        "    annotation_zip = tf.keras.utils.get_file('captions.zip',\n",
        "                                           cache_subdir=os.path.abspath('.'),\n",
        "                                           origin='http://images.cocodataset.org/annotations/annotations_trainval2014.zip',\n",
        "                                           extract=True)\n",
        "    annotation_file = os.path.dirname(annotation_zip)+'/annotations/captions_train2014.json'\n",
        "    os.remove(annotation_zip) #remove zip file\n",
        "\n",
        "# Download image files\n",
        "image_folder = '/train2014/'\n",
        "if not os.path.exists(os.path.abspath('.') + image_folder):\n",
        "    image_zip = tf.keras.utils.get_file('train2014.zip',\n",
        "                                      cache_subdir=os.path.abspath('.'),\n",
        "                                      origin='http://images.cocodataset.org/zips/train2014.zip',\n",
        "                                      extract=True)\n",
        "    PATH = os.path.dirname(image_zip) + image_folder\n",
        "    os.remove(image_zip)# remove zip file\n",
        "else:\n",
        "    PATH = os.path.abspath('.') + image_folder"
      ],
      "execution_count": null,
      "outputs": []
    },
    {
      "cell_type": "markdown",
      "metadata": {
        "id": "aANEzb5WwSzg"
      },
      "source": [
        "## limiting  the size of the training set for faster training\n",
        "In this case limiting the number of images to 15000 with each image containing 5 captions resulting in 30000 captions "
      ]
    },
    {
      "cell_type": "markdown",
      "metadata": {
        "id": "gqmN51Uk00Un"
      },
      "source": [
        "## Preprocessing the captions"
      ]
    },
    {
      "cell_type": "code",
      "metadata": {
        "ExecuteTime": {
          "end_time": "2021-08-05T18:45:40.081398Z",
          "start_time": "2021-08-05T18:45:39.414639Z"
        },
        "id": "m8iBJCyVB2ud",
        "init_cell": true
      },
      "source": [
        "#open the annotations(captions) .json file\n",
        "annotation_file = os.path.abspath('.')+'/annotations/captions_train2014.json'\n",
        "with open(annotation_file, 'r') as f:\n",
        "    annotations = json.load(f)"
      ],
      "execution_count": null,
      "outputs": []
    },
    {
      "cell_type": "code",
      "metadata": {
        "ExecuteTime": {
          "end_time": "2021-08-05T18:45:40.532422Z",
          "start_time": "2021-08-05T18:45:40.083292Z"
        },
        "id": "miER7EHMB3Ge",
        "init_cell": true
      },
      "source": [
        "# Group all captions together having the same image ID.\n",
        "image_path_to_caption = collections.defaultdict(list)\n",
        "for val in annotations['annotations']:\n",
        "    caption = f\"<start> {val['caption']} <end>\" \n",
        "    image_path = PATH + 'COCO_train2014_' + '%012d.jpg' % (val['image_id'])\n",
        "    image_path_to_caption[image_path].append(caption)"
      ],
      "execution_count": null,
      "outputs": []
    },
    {
      "cell_type": "code",
      "metadata": {
        "ExecuteTime": {
          "end_time": "2021-08-05T18:45:41.112190Z",
          "start_time": "2021-08-05T18:45:41.052192Z"
        },
        "id": "7vvqkqYGMhvm",
        "init_cell": true
      },
      "source": [
        "# shuffling the images\n",
        "import random\n",
        "image_paths = list(image_path_to_caption.keys())\n",
        "random.Random(0).shuffle(image_paths)\n",
        "\n",
        "# Select the first 15000 image_paths from the shuffled set.\n",
        "# Approximately each image id has 5 captions associated with it, so that will\n",
        "# lead to 75,000 examples."
      ],
      "execution_count": null,
      "outputs": []
    },
    {
      "cell_type": "code",
      "metadata": {
        "ExecuteTime": {
          "end_time": "2021-08-05T18:45:41.923182Z",
          "start_time": "2021-08-05T18:45:41.909183Z"
        },
        "id": "i71TYA080Rrx"
      },
      "source": [
        "train_image_paths = image_paths[:15000]\n",
        "print(len(train_image_paths))"
      ],
      "execution_count": null,
      "outputs": []
    },
    {
      "cell_type": "code",
      "metadata": {
        "ExecuteTime": {
          "end_time": "2021-08-05T18:45:46.294905Z",
          "start_time": "2021-08-05T18:45:46.266850Z"
        },
        "id": "hrmdtMX8Lnyh",
        "init_cell": true
      },
      "source": [
        "# form lists with captions and their respective image\n",
        "train_captions = []\n",
        "img_name_vector = []\n",
        "\n",
        "for image_path in train_image_paths:\n",
        "    caption_list = image_path_to_caption[image_path]\n",
        "    train_captions.extend(caption_list)\n",
        "    img_name_vector.extend([image_path] * len(caption_list))"
      ],
      "execution_count": null,
      "outputs": []
    },
    {
      "cell_type": "code",
      "metadata": {
        "ExecuteTime": {
          "end_time": "2021-08-05T18:45:47.058420Z",
          "start_time": "2021-08-05T18:45:46.944993Z"
        },
        "id": "RhCND0bCUP11",
        "init_cell": true
      },
      "source": [
        "print(train_captions[0])\n",
        "Image.open(img_name_vector[0])"
      ],
      "execution_count": null,
      "outputs": []
    },
    {
      "cell_type": "markdown",
      "metadata": {
        "id": "vaKwmH7T4SIE"
      },
      "source": [
        "### Initialising resnet50 model for feature extraction"
      ]
    },
    {
      "cell_type": "markdown",
      "metadata": {
        "id": "iJKLYGhW1FSR"
      },
      "source": [
        "Uncomment this code and excecute this if the Resnet model is already saved in your local disk and skip the resnet50 model building and move to preprocessing "
      ]
    },
    {
      "cell_type": "code",
      "metadata": {
        "id": "d89BI5dj1GGC"
      },
      "source": [
        "# image_features_extract_model = load_model('/content/resnet50_model.hdf5')\n",
        "# image_features_extract_model.summary()"
      ],
      "execution_count": null,
      "outputs": []
    },
    {
      "cell_type": "markdown",
      "metadata": {
        "id": "0IOqDzk55lD0"
      },
      "source": [
        "### Identity block"
      ]
    },
    {
      "cell_type": "markdown",
      "metadata": {
        "id": "hZE9OQns5Uqz"
      },
      "source": [
        "![identity block.png](data:image/png;base64,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)"
      ]
    },
    {
      "cell_type": "code",
      "metadata": {
        "ExecuteTime": {
          "end_time": "2021-08-05T18:45:48.396887Z",
          "start_time": "2021-08-05T18:45:48.384883Z"
        },
        "id": "Icq_eXTNRVUY"
      },
      "source": [
        "def identity_block(X, f, filters, stage, block):\n",
        "    \"\"\"\n",
        "    Implementation of identity block as of above figure\n",
        "    skips over two convolution block.\n",
        "    Args:\n",
        "    X -- input tensor\n",
        "    f -- integer, specifying the shape of the middle CONV's window for the main path\n",
        "    filters -- python list of integers, defining the number of filters in the CONV layers of the main path\n",
        "    stage -- integer, used to name the layers, depending on their position in the network\n",
        "    block -- string/character, used to name the layers, depending on their position in the network\n",
        "    \n",
        "    Returns:\n",
        "    X -- output of the identity block a tensor \n",
        "    \"\"\"\n",
        "    conv_name_base = 'res' + str(stage) + block + '_branch'\n",
        "    bn_name_base = 'bn' + str(stage) + block + '_branch'\n",
        "    \n",
        "    F1, F2, F3 = filters\n",
        "    \n",
        "    X_shortcut = X\n",
        "        \n",
        "    X = Conv2D(filters = F1, kernel_size = (1, 1), strides = (1,1), padding = 'valid', name = conv_name_base + '2a', kernel_initializer = glorot_uniform(seed=0))(X)\n",
        "    X = BatchNormalization(axis = 3, name = bn_name_base + '2a')(X)\n",
        "    X = Activation('relu')(X)\n",
        "        \n",
        "    X = Conv2D(filters = F2, kernel_size = (f, f), strides = (1,1), padding = 'same', name = conv_name_base + '2b', kernel_initializer = glorot_uniform(seed=0))(X)\n",
        "    X = BatchNormalization(axis = 3, name = bn_name_base + '2b')(X)\n",
        "    X = Activation('relu')(X)\n",
        "\n",
        "    X = Conv2D(filters = F3, kernel_size = (1, 1), strides = (1,1), padding = 'valid', name = conv_name_base + '2c', kernel_initializer = glorot_uniform(seed=0))(X)\n",
        "    X = BatchNormalization(axis = 3, name = bn_name_base + '2c')(X)\n",
        "\n",
        "    # Add shortcut value to main path\n",
        "    X = Add()([X_shortcut, X])\n",
        "    X = Activation('relu')(X)\n",
        "        \n",
        "    return X"
      ],
      "execution_count": null,
      "outputs": []
    },
    {
      "cell_type": "markdown",
      "metadata": {
        "id": "ynfMGbm46SFh"
      },
      "source": [
        "### Convolutional Block"
      ]
    },
    {
      "cell_type": "markdown",
      "metadata": {
        "id": "Us0XF0eF6KSL"
      },
      "source": [
        "![convolutional block.png](data:image/png;base64,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)"
      ]
    },
    {
      "cell_type": "code",
      "metadata": {
        "ExecuteTime": {
          "end_time": "2021-08-05T18:45:49.082874Z",
          "start_time": "2021-08-05T18:45:49.067414Z"
        },
        "id": "H1yZbWBSRWs7"
      },
      "source": [
        "def convolutional_block(X, f, filters, stage, block, s = 2):\n",
        "    \"\"\"\n",
        "    Implementation of the convolutional block as defined in above figure\n",
        "    \n",
        "    Arguments:\n",
        "    X -- input tensor \n",
        "    f -- integer, specifying the shape of the middle CONV's window for the main path\n",
        "    filters -- python list of integers, defining the number of filters in the CONV layers of the main path\n",
        "    stage -- integer, used to name the layers, depending on their position in the network\n",
        "    block -- string/character, used to name the layers, depending on their position in the network\n",
        "    s -- Integer, specifying the stride to be used\n",
        "    \n",
        "    Returns:\n",
        "    X -- output of the convolutional block a tensor \n",
        "    \"\"\"\n",
        "    \n",
        "    conv_name_base = 'res' + str(stage) + block + '_branch'\n",
        "    bn_name_base = 'bn' + str(stage) + block + '_branch'\n",
        "    F1, F2, F3 = filters\n",
        "    X_shortcut = X\n",
        "    X = Conv2D(F1, (1, 1), strides = (s,s), name = conv_name_base + '2a', kernel_initializer = glorot_uniform(seed=0))(X)\n",
        "    X = BatchNormalization(axis = 3, name = bn_name_base + '2a')(X)\n",
        "    X = Activation('relu')(X)\n",
        "    X = Conv2D(filters = F2, kernel_size = (f, f), strides = (1,1), padding = 'same', name = conv_name_base + '2b', kernel_initializer = glorot_uniform(seed=0))(X)\n",
        "    X = BatchNormalization(axis = 3, name = bn_name_base + '2b')(X)\n",
        "    X = Activation('relu')(X)\n",
        "    X = Conv2D(filters = F3, kernel_size = (1, 1), strides = (1,1), padding = 'valid', name = conv_name_base + '2c', kernel_initializer = glorot_uniform(seed=0))(X)\n",
        "    X = BatchNormalization(axis = 3, name = bn_name_base + '2c')(X)\n",
        "    X_shortcut = Conv2D(filters = F3, kernel_size = (1, 1), strides = (s,s), padding = 'valid', name = conv_name_base + '1', kernel_initializer = glorot_uniform(seed=0))(X_shortcut)\n",
        "    X_shortcut = BatchNormalization(axis = 3, name = bn_name_base + '1')(X_shortcut)\n",
        "    X = Add()([X_shortcut, X])\n",
        "    X = Activation('relu')(X)\n",
        "   \n",
        "    return X"
      ],
      "execution_count": null,
      "outputs": []
    },
    {
      "cell_type": "code",
      "metadata": {
        "ExecuteTime": {
          "end_time": "2021-08-05T18:45:49.346910Z",
          "start_time": "2021-08-05T18:45:49.333699Z"
        },
        "id": "FpqqjMbiRa94"
      },
      "source": [
        "def top_5_accuracy(y_true, y_pred):\n",
        "    return top_k_categorical_accuracy(y_true, y_pred, k=5)"
      ],
      "execution_count": null,
      "outputs": []
    },
    {
      "cell_type": "markdown",
      "metadata": {
        "id": "iV5lEXS09w_T"
      },
      "source": [
        "## ResNet"
      ]
    },
    {
      "cell_type": "markdown",
      "metadata": {
        "id": "zEIk1EBl9tDE"
      },
      "source": [
        "![resnet.png](data:image/png;base64,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)"
      ]
    },
    {
      "cell_type": "code",
      "metadata": {
        "ExecuteTime": {
          "end_time": "2021-08-05T18:45:50.048698Z",
          "start_time": "2021-08-05T18:45:50.031202Z"
        },
        "id": "KixpWOr7RbBb"
      },
      "source": [
        "WEIGHTS_PATH_NO_TOP = 'https://github.com/fchollet/deep-learning-models/releases/download/v0.2/resnet50_weights_tf_dim_ordering_tf_kernels_notop.h5'\n",
        "def ResNet50(input_shape = (224, 224, 3)):\n",
        "\n",
        "    X_input = Input(input_shape)\n",
        "    X = ZeroPadding2D((3, 3))(X_input)\n",
        "    X = Conv2D(64, (7, 7), strides = (2, 2), name = 'conv1', kernel_initializer = glorot_uniform(seed=0))(X)\n",
        "    X = BatchNormalization(axis = 3, name = 'bn_conv1')(X)\n",
        "    X = Activation('relu')(X)\n",
        "    X = MaxPooling2D((3, 3), strides=(2, 2))(X)\n",
        "    X = convolutional_block(X, f = 3, filters = [64, 64, 256], stage = 2, block='a', s = 1)\n",
        "    X = identity_block(X, 3, [64, 64, 256], stage=2, block='b')\n",
        "    X = identity_block(X, 3, [64, 64, 256], stage=2, block='c')\n",
        "    X = convolutional_block(X, f = 3, filters = [128, 128, 512], stage = 3, block='a', s = 2)\n",
        "    X = identity_block(X, 3, [128, 128, 512], stage=3, block='b')\n",
        "    X = identity_block(X, 3, [128, 128, 512], stage=3, block='c')\n",
        "    X = identity_block(X, 3, [128, 128, 512], stage=3, block='d')\n",
        "    X = convolutional_block(X, f = 3, filters = [256, 256, 1024], stage = 4, block='a', s = 2)\n",
        "    X = identity_block(X, 3, [256, 256, 1024], stage=4, block='b')\n",
        "    X = identity_block(X, 3, [256, 256, 1024], stage=4, block='c')\n",
        "    X = identity_block(X, 3, [256, 256, 1024], stage=4, block='d')\n",
        "    X = identity_block(X, 3, [256, 256, 1024], stage=4, block='e')\n",
        "    X = identity_block(X, 3, [256, 256, 1024], stage=4, block='f')\n",
        "    X = convolutional_block(X, f = 3, filters = [512, 512, 2048], stage = 5, block='a', s = 2)\n",
        "    X = identity_block(X, 3, [512, 512, 2048], stage=5, block='b')\n",
        "    X = identity_block(X, 3, [512, 512, 2048], stage=5, block='c')\n",
        "    model = Model(inputs = X_input, outputs = X, name='ResNet50')\n",
        "    weights_path = utils.get_file('resnet50_weights_tf_dim_ordering_tf_kernels_notop.h5',\n",
        "                                    WEIGHTS_PATH_NO_TOP,\n",
        "                                    cache_subdir='models',\n",
        "                                    md5_hash='a268eb855778b3df3c7506639542a6af')\n",
        "    model.load_weights(weights_path,by_name=True)\n",
        "    model.compile(optimizer='adam', loss='categorical_crossentropy', metrics=['acc',top_5_accuracy])\n",
        "    return model"
      ],
      "execution_count": null,
      "outputs": []
    },
    {
      "cell_type": "code",
      "metadata": {
        "ExecuteTime": {
          "end_time": "2021-08-05T18:45:52.605271Z",
          "start_time": "2021-08-05T18:45:50.305569Z"
        },
        "id": "6ZwjGBu_R0H9"
      },
      "source": [
        "image_features_extract_model = ResNet50(input_shape = (224, 224, 3)) #output_shape=(7,7,2048)"
      ],
      "execution_count": null,
      "outputs": []
    },
    {
      "cell_type": "markdown",
      "metadata": {
        "id": "3r6x4H8ILPvH"
      },
      "source": [
        "Saving resnet50 model for direct predictions in future cases"
      ]
    },
    {
      "cell_type": "code",
      "metadata": {
        "ExecuteTime": {
          "end_time": "2021-08-05T18:45:52.621267Z",
          "start_time": "2021-08-05T18:45:52.606265Z"
        },
        "id": "_SZbvRvidAIg"
      },
      "source": [
        "#saving the model in .hdf5 file\n",
        "#choose your path\n",
        "model_path ='weights/resnet50.hdf5'\n",
        "image_features_extract_model.save_weights(model_path)"
      ],
      "execution_count": null,
      "outputs": []
    },
    {
      "cell_type": "markdown",
      "metadata": {
        "id": "BD37BLAK6GHQ"
      },
      "source": [
        "# Image preprocessing"
      ]
    },
    {
      "cell_type": "markdown",
      "metadata": {
        "id": "SJv_SHg05Mt6"
      },
      "source": [
        "preprocessing the training images and saving the output features to the disk . keeping them all in the memory will consume a lot of RAM which is not recommended. Saving them to disk as .npy files and lazy loading them using tf.data.Dataset when required is a better way to save memory"
      ]
    },
    {
      "cell_type": "code",
      "metadata": {
        "ExecuteTime": {
          "end_time": "2021-08-05T18:45:47.603463Z",
          "start_time": "2021-08-05T18:45:47.588465Z"
        },
        "id": "zXR0217aRPFR",
        "init_cell": true
      },
      "source": [
        "#preprocess the image before feeding in to the model\n",
        "def load_image(image_path):\n",
        "    img = tf.io.read_file(image_path)\n",
        "    img = tf.image.decode_jpeg(img, channels=3)\n",
        "    img = tf.image.resize(img, (224, 224)) # (224,224) is the default input of resnet50\n",
        "    img = tf.keras.applications.resnet50.preprocess_input(img)\n",
        "    return img, image_path"
      ],
      "execution_count": null,
      "outputs": []
    },
    {
      "cell_type": "markdown",
      "metadata": {
        "id": "o88ttaG312Sj"
      },
      "source": [
        "skip the below code if you already dumped the numpy features to your disk"
      ]
    },
    {
      "cell_type": "code",
      "metadata": {
        "ExecuteTime": {
          "end_time": "2021-08-05T18:45:52.637271Z",
          "start_time": "2021-08-05T18:45:52.623265Z"
        },
        "id": "Dx_fvbVgRPGQ"
      },
      "source": [
        "# Get unique images\n",
        "encode_train = sorted(set(img_name_vector))\n",
        "\n",
        "#batch size=16\n",
        "image_dataset = tf.data.Dataset.from_tensor_slices(encode_train)\n",
        "image_dataset = image_dataset.map(\n",
        "  load_image, num_parallel_calls=tf.data.AUTOTUNE).batch(16)\n",
        "\n",
        "for img, path in tqdm(image_dataset):\n",
        "  batch_features = image_features_extract_model(img)\n",
        "  batch_features = tf.reshape(batch_features,\n",
        "                              (batch_features.shape[0], -1, batch_features.shape[3]))\n",
        "\n",
        "  for bf, p in zip(batch_features, path):\n",
        "    path_of_feature = p.numpy().decode(\"utf-8\")\n",
        "    np.save(path_of_feature, bf.numpy())"
      ],
      "execution_count": null,
      "outputs": []
    },
    {
      "cell_type": "markdown",
      "metadata": {
        "id": "nyqH3zFwRPFi"
      },
      "source": [
        "## Preprocess and tokenize the captions\n",
        "\n",
        "* Tokenize the captions (for example, by splitting on spaces). This gives us a  vocabulary of all of the unique words in the data\n",
        "* limiting the vocabulary size to the top 5,000 words (to save memory). Replace all other words with the token \"UNK\" (unknown).\n",
        "* Create word-to-index and index-to-word mappings.\n",
        "* Finally, pad all sequences to be the same length as the longest one."
      ]
    },
    {
      "cell_type": "code",
      "metadata": {
        "ExecuteTime": {
          "end_time": "2021-08-05T18:45:52.652398Z",
          "start_time": "2021-08-05T18:45:52.638264Z"
        },
        "id": "HZfK8RhQRPFj",
        "init_cell": true
      },
      "source": [
        "# Find the maximum length of any caption in the dataset\n",
        "def calc_max_length(tensor):\n",
        "    return max(len(t) for t in tensor)"
      ],
      "execution_count": null,
      "outputs": []
    },
    {
      "cell_type": "markdown",
      "metadata": {
        "id": "E4EmXH5H2YWD"
      },
      "source": [
        "Uncomment the below cell and execute if you already saved the tokeniser to the disk and skip to create tokenized words"
      ]
    },
    {
      "cell_type": "code",
      "metadata": {
        "id": "1a5PEBU-2OSa"
      },
      "source": [
        "# #load word tokenizer\n",
        "# with open('/content/tokenizer.json') as f:\n",
        "#     data = json.load(f)\n",
        "#     tokenizer = tokenizer_from_json(data)"
      ],
      "execution_count": null,
      "outputs": []
    },
    {
      "cell_type": "code",
      "metadata": {
        "ExecuteTime": {
          "end_time": "2021-08-05T18:45:52.667615Z",
          "start_time": "2021-08-05T18:45:52.653469Z"
        },
        "id": "oJGE34aiRPFo",
        "init_cell": true
      },
      "source": [
        "# Choose the top 5000 words from the vocabulary\n",
        "top_k = 5000\n",
        "tokenizer = tf.keras.preprocessing.text.Tokenizer(num_words=top_k,\n",
        "                                                  oov_token=\"<unk>\",\n",
        "                                                  filters='!\"#$%&()*+.,-/:;=?@[\\]^_`{|}~')\n",
        "tokenizer.fit_on_texts(train_captions)"
      ],
      "execution_count": null,
      "outputs": []
    },
    {
      "cell_type": "code",
      "metadata": {
        "ExecuteTime": {
          "end_time": "2021-08-05T18:45:52.682297Z",
          "start_time": "2021-08-05T18:45:52.668598Z"
        },
        "id": "8Q44tNQVRPFt",
        "init_cell": true
      },
      "source": [
        "tokenizer.word_index['<pad>'] = 0\n",
        "tokenizer.index_word[0] = '<pad>'"
      ],
      "execution_count": null,
      "outputs": []
    },
    {
      "cell_type": "markdown",
      "metadata": {
        "id": "RIWGJmkWLgGg"
      },
      "source": [
        "Saving the tokenizer to directly load it for prediction"
      ]
    },
    {
      "cell_type": "code",
      "metadata": {
        "ExecuteTime": {
          "end_time": "2021-08-05T18:45:52.698297Z",
          "start_time": "2021-08-05T18:45:52.683306Z"
        },
        "id": "u_99_4bOpCsb"
      },
      "source": [
        "import io\n",
        "tokenizer_json = tokenizer.to_json()\n",
        "with io.open('weights/tokenizer.json', 'w', encoding='utf-8') as f:\n",
        "    f.write(json.dumps(tokenizer_json, ensure_ascii=False))"
      ],
      "execution_count": null,
      "outputs": []
    },
    {
      "cell_type": "code",
      "metadata": {
        "ExecuteTime": {
          "end_time": "2021-08-05T18:45:53.973015Z",
          "start_time": "2021-08-05T18:45:53.150717Z"
        },
        "id": "0fpJb5ojRPFv",
        "init_cell": true
      },
      "source": [
        "# Create the tokenized vectors\n",
        "train_seqs = tokenizer.texts_to_sequences(train_captions)"
      ],
      "execution_count": null,
      "outputs": []
    },
    {
      "cell_type": "code",
      "metadata": {
        "ExecuteTime": {
          "end_time": "2021-08-05T18:45:54.296180Z",
          "start_time": "2021-08-05T18:45:53.974727Z"
        },
        "id": "AidglIZVRPF4",
        "init_cell": true
      },
      "source": [
        "# Pad each vector to the max_length of the captions\n",
        "cap_vector = tf.keras.preprocessing.sequence.pad_sequences(train_seqs, padding='post')"
      ],
      "execution_count": null,
      "outputs": []
    },
    {
      "cell_type": "code",
      "metadata": {
        "ExecuteTime": {
          "end_time": "2021-08-05T18:45:54.312301Z",
          "start_time": "2021-08-05T18:45:54.297168Z"
        },
        "id": "gL0wkttkRPGA",
        "init_cell": true
      },
      "source": [
        "# Calculates the max_length, which is used to store the attention weights\n",
        "max_length = calc_max_length(train_seqs)\n",
        "print(max_length)"
      ],
      "execution_count": null,
      "outputs": []
    },
    {
      "cell_type": "markdown",
      "metadata": {
        "id": "M3CD75nDpvTI"
      },
      "source": [
        "## Split the data into training and testing"
      ]
    },
    {
      "cell_type": "code",
      "metadata": {
        "ExecuteTime": {
          "end_time": "2021-08-05T18:45:54.374726Z",
          "start_time": "2021-08-05T18:45:54.313304Z"
        },
        "id": "iS7DDMszRPGF",
        "init_cell": true
      },
      "source": [
        "img_to_cap_vector = collections.defaultdict(list)\n",
        "for img, cap in zip(img_name_vector, cap_vector):\n",
        "  img_to_cap_vector[img].append(cap)\n",
        "\n",
        "# Create training, validation, test sets using an 95-4-1 split randomly.\n",
        "img_keys = list(img_to_cap_vector.keys())\n",
        "random.shuffle(img_keys)\n",
        "\n",
        "slice_index = int(len(img_keys)*0.95)\n",
        "slice_index_1 = int(len(img_keys)*0.99)\n",
        "img_name_train_keys, img_name_val_keys,img_name_test_keys = img_keys[:slice_index], img_keys[slice_index:slice_index_1],img_keys[slice_index_1:]\n",
        "\n",
        "img_name_train = []\n",
        "cap_train = []\n",
        "for imgt in img_name_train_keys:\n",
        "  capt_len = len(img_to_cap_vector[imgt])\n",
        "  img_name_train.extend([imgt] * capt_len)\n",
        "  cap_train.extend(img_to_cap_vector[imgt])\n",
        "\n",
        "img_name_val = []\n",
        "cap_val = []\n",
        "for imgv in img_name_val_keys:\n",
        "  capv_len = len(img_to_cap_vector[imgv])\n",
        "  img_name_val.extend([imgv] * capv_len)\n",
        "  cap_val.extend(img_to_cap_vector[imgv])\n",
        "\n",
        "img_name_test = []\n",
        "cap_test = []\n",
        "for imgtest in img_name_test_keys:\n",
        "  captest_len = len(img_to_cap_vector[imgtest])\n",
        "  img_name_test.extend([imgtest] * captest_len)\n",
        "  cap_test.extend(img_to_cap_vector[imgtest])"
      ],
      "execution_count": null,
      "outputs": []
    },
    {
      "cell_type": "code",
      "metadata": {
        "ExecuteTime": {
          "end_time": "2021-08-05T18:45:54.467340Z",
          "start_time": "2021-08-05T18:45:54.453139Z"
        },
        "id": "XmViPkRFRPGH",
        "init_cell": true
      },
      "source": [
        "len(img_name_train), len(cap_train), len(img_name_val), len(cap_val),len(cap_test),len(img_name_test)"
      ],
      "execution_count": null,
      "outputs": []
    },
    {
      "cell_type": "markdown",
      "metadata": {
        "id": "uEWM9xrYcg45"
      },
      "source": [
        "## Create a tf.data dataset for training\n"
      ]
    },
    {
      "cell_type": "markdown",
      "metadata": {
        "id": "horagNvhhZiy"
      },
      "source": [
        "images and captions are ready.creating a `tf.data` dataset to use for training the model."
      ]
    },
    {
      "cell_type": "code",
      "metadata": {
        "ExecuteTime": {
          "end_time": "2021-08-05T18:45:55.231768Z",
          "start_time": "2021-08-05T18:45:55.220677Z"
        },
        "id": "Q3TnZ1ToRPGV",
        "init_cell": true
      },
      "source": [
        "# Choose optimal parameters depending upon system configuration\n",
        "# Can be changed depending upon your system configuration\n",
        "top_k = 5000\n",
        "BATCH_SIZE = 64\n",
        "BUFFER_SIZE = 1000\n",
        "embedding_dim = 256\n",
        "units = 512\n",
        "vocab_size = top_k + 1\n",
        "num_steps = len(img_name_train) // BATCH_SIZE\n",
        "# Shape of the vector extracted from resnet50 is (49, 2048)\n",
        "# These two variables represent that vector shape\n",
        "features_shape = 2048\n",
        "attention_features_shape = 49"
      ],
      "execution_count": null,
      "outputs": []
    },
    {
      "cell_type": "code",
      "metadata": {
        "ExecuteTime": {
          "end_time": "2021-08-05T18:45:55.493534Z",
          "start_time": "2021-08-05T18:45:55.485534Z"
        },
        "id": "SmZS2N0bXG3T",
        "init_cell": true
      },
      "source": [
        "# Load the numpy files\n",
        "def map_func(img_name, cap):\n",
        "  img_tensor = np.load(img_name.decode('utf-8')+'.npy')\n",
        "  return img_tensor, cap"
      ],
      "execution_count": null,
      "outputs": []
    },
    {
      "cell_type": "code",
      "metadata": {
        "ExecuteTime": {
          "end_time": "2021-08-05T18:45:57.482649Z",
          "start_time": "2021-08-05T18:45:55.736555Z"
        },
        "id": "FDF_Nm3tRPGZ",
        "init_cell": true
      },
      "source": [
        "dataset = tf.data.Dataset.from_tensor_slices((img_name_train, cap_train))\n",
        "\n",
        "# Use map to load the numpy files in parallel\n",
        "dataset = dataset.map(lambda item1, item2: tf.numpy_function(\n",
        "          map_func, [item1, item2], [tf.float32, tf.int32]),\n",
        "          num_parallel_calls=tf.data.AUTOTUNE)\n",
        "\n",
        "# Shuffle and batch\n",
        "dataset = dataset.shuffle(BUFFER_SIZE).batch(BATCH_SIZE)\n",
        "dataset = dataset.prefetch(buffer_size=tf.data.AUTOTUNE)"
      ],
      "execution_count": null,
      "outputs": []
    },
    {
      "cell_type": "markdown",
      "metadata": {
        "id": "nrvoDphgRPGd"
      },
      "source": [
        "## Model\n",
        "\n",
        "*  extract the features from the lower convolutional layer of Resnet50 giving us a vector of shape (7, 7, 2048).\n",
        "* squashing that to a shape of (49, 2048).\n",
        "* This vector is then passed through the CNN Encoder\n",
        "* The RNN attends over the image to predict the next word."
      ]
    },
    {
      "cell_type": "markdown",
      "metadata": {
        "id": "1r0nKLuZwAx3"
      },
      "source": [
        "### Attention model"
      ]
    },
    {
      "cell_type": "code",
      "metadata": {
        "ExecuteTime": {
          "end_time": "2021-08-05T18:45:57.497804Z",
          "start_time": "2021-08-05T18:45:57.484821Z"
        },
        "id": "ja2LFTMSdeV3",
        "init_cell": true
      },
      "source": [
        "class BahdanauAttention(tf.keras.Model):\n",
        "  def __init__(self, units):\n",
        "    super(BahdanauAttention, self).__init__()\n",
        "    self.W1 = tf.keras.layers.Dense(units)\n",
        "    self.W2 = tf.keras.layers.Dense(units)\n",
        "    self.V = tf.keras.layers.Dense(1)\n",
        "\n",
        "  def call(self, features, hidden):\n",
        "    # features(CNN_encoder output) shape == (batch_size, 49, embedding_dim)\n",
        "\n",
        "    # hidden shape == (batch_size, hidden_size)\n",
        "    # hidden_with_time_axis shape == (batch_size, 1, hidden_size)\n",
        "    hidden_with_time_axis = tf.expand_dims(hidden, 1)\n",
        "\n",
        "    # attention_hidden_layer shape == (batch_size, 49, units)\n",
        "    attention_hidden_layer = (tf.nn.tanh(self.W1(features) +\n",
        "                                         self.W2(hidden_with_time_axis)))\n",
        "\n",
        "    # score shape == (batch_size, 49, 1)\n",
        "    # This gives you an unnormalized score for each image feature.\n",
        "    score = self.V(attention_hidden_layer)\n",
        "\n",
        "    # attention_weights shape == (batch_size, 49, 1)\n",
        "    attention_weights = tf.nn.softmax(score, axis=1)\n",
        "\n",
        "    # context_vector shape after sum == (batch_size, hidden_size)\n",
        "    context_vector = attention_weights * features\n",
        "    context_vector = tf.reduce_sum(context_vector, axis=1)\n",
        "\n",
        "    return context_vector, attention_weights"
      ],
      "execution_count": null,
      "outputs": []
    },
    {
      "cell_type": "markdown",
      "metadata": {
        "id": "XT_hq8PrwEBy"
      },
      "source": [
        "###  CNN Encoder Model"
      ]
    },
    {
      "cell_type": "code",
      "metadata": {
        "ExecuteTime": {
          "end_time": "2021-08-05T18:45:57.512772Z",
          "start_time": "2021-08-05T18:45:57.499807Z"
        },
        "id": "AZ7R1RxHRPGf",
        "init_cell": true
      },
      "source": [
        "class CNN_Encoder(tf.keras.Model):\n",
        "    # This encoder passes those features extracted from resnet50 (49,2048)through a Fully connected layer\n",
        "    def __init__(self, embedding_dim):\n",
        "        super(CNN_Encoder, self).__init__()\n",
        "        # shape after fc == (batch_size, 49, embedding_dim)\n",
        "        self.fc1 = tf.keras.layers.Dense(embedding_dim)\n",
        "\n",
        "    def call(self, x):\n",
        "        x = self.fc1(x)\n",
        "        x = tf.nn.relu(x)\n",
        "        return x"
      ],
      "execution_count": null,
      "outputs": []
    },
    {
      "cell_type": "markdown",
      "metadata": {
        "id": "120Lmn8lwIIO"
      },
      "source": [
        "### RNN Decoder Model"
      ]
    },
    {
      "cell_type": "code",
      "metadata": {
        "ExecuteTime": {
          "end_time": "2021-08-05T18:45:57.528864Z",
          "start_time": "2021-08-05T18:45:57.513789Z"
        },
        "id": "V9UbGQmERPGi",
        "init_cell": true
      },
      "source": [
        "class RNN_Decoder(tf.keras.Model):\n",
        "  def __init__(self, embedding_dim, units, vocab_size):\n",
        "    super(RNN_Decoder, self).__init__()\n",
        "    self.units = units\n",
        "\n",
        "    self.embedding = tf.keras.layers.Embedding(vocab_size, embedding_dim)\n",
        "    self.gru1 = tf.keras.layers.GRU(self.units,\n",
        "                                   return_sequences=True,\n",
        "                                   return_state=True,\n",
        "                                   recurrent_initializer='glorot_uniform')\n",
        "    self.gru2 = tf.keras.layers.GRU(self.units,\n",
        "                                   return_sequences=True,\n",
        "                                   return_state=True,\n",
        "                                   recurrent_initializer='glorot_uniform')\n",
        "    self.fc1 = tf.keras.layers.Dense(self.units)\n",
        "    self.fc2 = tf.keras.layers.Dense(self.units)\n",
        "    self.fc3 = tf.keras.layers.Dense(vocab_size)\n",
        "    self.drop = tf.keras.layers.Dropout(0.25)\n",
        "\n",
        "    self.attention = BahdanauAttention(self.units)\n",
        "\n",
        "  def call(self, x, features, hidden):\n",
        "    # defining attention as a separate model\n",
        "    context_vector, attention_weights = self.attention(features, hidden)\n",
        "\n",
        "    # x shape after passing through embedding == (batch_size, 1, embedding_dim)\n",
        "    x = self.embedding(x)\n",
        "\n",
        "    # x shape after concatenation == (batch_size, 1, embedding_dim + hidden_size)\n",
        "    x = tf.concat([tf.expand_dims(context_vector, 1), x], axis=-1)\n",
        "    x= self.drop(x)\n",
        "\n",
        "    # passing the concatenated vector to the stack of GRU layers\n",
        "    output, state = self.gru1(x)\n",
        "    x = self.drop(output)\n",
        "    output, state_ = self.gru2(x)\n",
        "    x = self.drop(output)\n",
        "    # shape == (batch_size, max_length, hidden_size)\n",
        "    x = self.fc1(x)\n",
        "    x= self.drop(x)\n",
        "    x = self.fc2(x)\n",
        "    x= self.drop(x)\n",
        "    # x shape == (batch_size * max_length, hidden_size)\n",
        "    x = tf.reshape(x, (-1, x.shape[2]))\n",
        "    # output shape == (batch_size * max_length, vocab)\n",
        "    x = self.fc3(x)\n",
        "\n",
        "    return x, state, attention_weights\n",
        "\n",
        "  def reset_state(self, batch_size):\n",
        "    return tf.zeros((batch_size, self.units))"
      ],
      "execution_count": null,
      "outputs": []
    },
    {
      "cell_type": "code",
      "metadata": {
        "ExecuteTime": {
          "end_time": "2021-08-05T18:45:57.559608Z",
          "start_time": "2021-08-05T18:45:57.529866Z"
        },
        "id": "Qs_Sr03wRPGk",
        "init_cell": true
      },
      "source": [
        "# creating instances of the model\n",
        "encoder = CNN_Encoder(embedding_dim)\n",
        "decoder = RNN_Decoder(embedding_dim, units, vocab_size)"
      ],
      "execution_count": null,
      "outputs": []
    },
    {
      "cell_type": "markdown",
      "metadata": {
        "id": "_YvTZmep30wJ"
      },
      "source": [
        "Uncomment and run the below cell to directly load the pretrained weights to the encoder and decoder to skip the training and check the validation. Skip the training section or retrain the model "
      ]
    },
    {
      "cell_type": "code",
      "metadata": {
        "id": "Pk5sXsDr29kh"
      },
      "source": [
        "# # calling model and load the pretrained weights to decoder and encoder to skip the training and check the validation and test\n",
        "# inp = tf.expand_dims([tokenizer.word_index['<start>']], 0)\n",
        "# vocab_size=5001\n",
        "# encoder(np.zeros((49,2048)))\n",
        "# encoder.built=True\n",
        "# hidden = decoder.reset_state(batch_size=1)\n",
        "# decoder(inp,np.zeros((49,256)),hidden)\n",
        "# decoder.built=True\n",
        "\n",
        "# #weights path\n",
        "# encoder_path='/content/encoder_gru_stack_2_512_enc_total.h5'\n",
        "# decoder_path='/content/decoder_gru_stack_2_512_enc_total.h5'\n",
        "\n",
        "# encoder.load_weights(encoder_path)\n",
        "# decoder.load_weights(decoder_path)"
      ],
      "execution_count": null,
      "outputs": []
    },
    {
      "cell_type": "code",
      "metadata": {
        "ExecuteTime": {
          "end_time": "2021-08-05T18:45:57.590609Z",
          "start_time": "2021-08-05T18:45:57.576502Z"
        },
        "id": "-bYN7xA0RPGl",
        "init_cell": true
      },
      "source": [
        "#loss function\n",
        "optimizer = tf.keras.optimizers.Adam()\n",
        "loss_object = tf.keras.losses.SparseCategoricalCrossentropy(\n",
        "    from_logits=True, reduction='none')\n",
        "\n",
        "\n",
        "def loss_function(real, pred):\n",
        "  mask = tf.math.logical_not(tf.math.equal(real, 0))\n",
        "  loss_ = loss_object(real, pred)\n",
        "\n",
        "  mask = tf.cast(mask, dtype=loss_.dtype)\n",
        "  loss_ *= mask\n",
        "\n",
        "  return tf.reduce_mean(loss_)"
      ],
      "execution_count": null,
      "outputs": []
    },
    {
      "cell_type": "markdown",
      "metadata": {
        "id": "6A3Ni64joyab"
      },
      "source": [
        "## Checkpoint"
      ]
    },
    {
      "cell_type": "code",
      "metadata": {
        "ExecuteTime": {
          "end_time": "2021-08-05T18:45:57.887179Z",
          "start_time": "2021-08-05T18:45:57.873180Z"
        },
        "id": "PpJAqPMWo0uE",
        "init_cell": true
      },
      "source": [
        "checkpoint_path = \"./checkpoint_gru2_encode_1/train_2\"\n",
        "ckpt = tf.train.Checkpoint(encoder=encoder,\n",
        "                           decoder=decoder,\n",
        "                           optimizer=optimizer)\n",
        "ckpt_manager = tf.train.CheckpointManager(ckpt, checkpoint_path, max_to_keep=5)"
      ],
      "execution_count": null,
      "outputs": []
    },
    {
      "cell_type": "code",
      "metadata": {
        "ExecuteTime": {
          "end_time": "2021-08-05T18:45:59.133274Z",
          "start_time": "2021-08-05T18:45:59.116969Z"
        },
        "id": "fUkbqhc_uObw",
        "init_cell": true
      },
      "source": [
        "start_epoch = 0\n",
        "if ckpt_manager.latest_checkpoint:\n",
        "  start_epoch = int(ckpt_manager.latest_checkpoint.split('-')[-1])\n",
        "  # restoring the latest checkpoint in checkpoint_path\n",
        "  ckpt.restore(ckpt_manager.latest_checkpoint)"
      ],
      "execution_count": null,
      "outputs": []
    },
    {
      "cell_type": "markdown",
      "metadata": {
        "id": "PHod7t72RPGn"
      },
      "source": [
        "## Training\n",
        "\n",
        "* extract the features stored in the respective `.npy` files and then pass those features through the encoder.\n",
        "* The encoder output, hidden state(initialized to 0) and the decoder input (which is the start token) is passed to the decoder.\n",
        "* The decoder returns the predictions and the decoder hidden state.\n",
        "* The decoder hidden state is then passed back into the model and the predictions are used to calculate the loss.\n",
        "* Use teacher forcing to decide the next input to the decoder.\n",
        "* Teacher forcing is the technique where the target word is passed as the next input to the decoder.\n",
        "* The final step is to calculate the gradients and apply it to the optimizer and backpropagate.\n"
      ]
    },
    {
      "cell_type": "code",
      "metadata": {
        "ExecuteTime": {
          "end_time": "2021-08-05T18:45:59.752835Z",
          "start_time": "2021-08-05T18:45:59.742702Z"
        },
        "id": "Vt4WZ5mhJE-E",
        "init_cell": true
      },
      "source": [
        "loss_plot = []"
      ],
      "execution_count": null,
      "outputs": []
    },
    {
      "cell_type": "code",
      "metadata": {
        "ExecuteTime": {
          "end_time": "2021-08-05T18:46:00.154749Z",
          "start_time": "2021-08-05T18:46:00.148952Z"
        },
        "id": "sqgyz2ANKlpU",
        "init_cell": true
      },
      "source": [
        "@tf.function\n",
        "def train_step(img_tensor, target):\n",
        "    loss = 0\n",
        "    # initializing the hidden state for each batch\n",
        "    # because the captions are not related from image to image\n",
        "    hidden = decoder.reset_state(batch_size=target.shape[0])\n",
        "\n",
        "    dec_input = tf.expand_dims([tokenizer.word_index['<start>']] *\n",
        "                               target.shape[0], 1)\n",
        "\n",
        "    with tf.GradientTape() as tape:\n",
        "        features = encoder(img_tensor)\n",
        "\n",
        "        for i in range(1, target.shape[1]):\n",
        "            # passing the features through the decoder\n",
        "            predictions, hidden, _ = decoder(dec_input, features, hidden)\n",
        "\n",
        "            loss += loss_function(target[:, i], predictions)\n",
        "\n",
        "            # using teacher forcing\n",
        "            dec_input = tf.expand_dims(target[:, i], 1)\n",
        "\n",
        "    total_loss = (loss / int(target.shape[1]))\n",
        "\n",
        "    trainable_variables = encoder.trainable_variables + decoder.trainable_variables\n",
        "    #   print(trainable_variables)\n",
        "\n",
        "    gradients = tape.gradient(loss, trainable_variables)\n",
        "    #   print('here')\n",
        "\n",
        "    optimizer.apply_gradients(zip(gradients, trainable_variables))\n",
        "    #   print('this')\n",
        "    return loss, total_loss"
      ],
      "execution_count": null,
      "outputs": []
    },
    {
      "cell_type": "markdown",
      "metadata": {
        "id": "QKATZ7EL5HRJ"
      },
      "source": [
        "### Training"
      ]
    },
    {
      "cell_type": "code",
      "metadata": {
        "ExecuteTime": {
          "end_time": "2021-08-05T18:59:46.476466Z",
          "start_time": "2021-08-05T18:47:32.407403Z"
        },
        "id": "UlA4VIQpRPGo",
        "scrolled": true
      },
      "source": [
        "EPOCHS = 20\n",
        "for epoch in range(start_epoch, EPOCHS):\n",
        "    start = time.time()\n",
        "    total_loss = 0\n",
        "    i=0\n",
        "    for (batch, (img_tensor, target)) in enumerate(dataset):\n",
        "#         i=i+1\n",
        "#         print(i)\n",
        "        batch_loss, t_loss = train_step(img_tensor, target)\n",
        "        total_loss += t_loss\n",
        "\n",
        "        if batch % 100 == 0:\n",
        "            average_batch_loss = batch_loss.numpy()/int(target.shape[1])\n",
        "            print(f'Epoch {epoch+1} Batch {batch} Loss {average_batch_loss:.4f}')\n",
        "    # storing the epoch end loss value to plot later\n",
        "    loss_plot.append(total_loss / num_steps)\n",
        "\n",
        "    if epoch % 5 == 0:\n",
        "      ckpt_manager.save()\n",
        "\n",
        "    print(f'Epoch {epoch+1} Loss {total_loss/num_steps:.6f}')\n",
        "    print(f'Time taken for 1 epoch {time.time()-start:.2f} sec\\n')"
      ],
      "execution_count": null,
      "outputs": []
    },
    {
      "cell_type": "code",
      "metadata": {
        "ExecuteTime": {
          "end_time": "2021-08-05T18:20:52.057364Z",
          "start_time": "2021-08-05T18:20:51.933158Z"
        },
        "id": "KSkmBB_PeI7L"
      },
      "source": [
        "# saving the encoder and decoder model weights\n",
        "encoder_path='final_weights/encoder_gru_stack_2_512_enc_1.h5'\n",
        "decoder_path='final_weights/decoder_gru_stack_2_512_enc_1.h5'\n",
        "encoder.save_weights(encoder_path)\n",
        "decoder.save_weights(decoder_path)"
      ],
      "execution_count": null,
      "outputs": []
    },
    {
      "cell_type": "code",
      "metadata": {
        "ExecuteTime": {
          "end_time": "2021-08-05T18:20:54.693102Z",
          "start_time": "2021-08-05T18:20:54.549650Z"
        },
        "id": "1Wm83G-ZBPcC"
      },
      "source": [
        "#loss plot\n",
        "plt.plot(loss_plot)\n",
        "plt.xlabel('Epochs')\n",
        "plt.ylabel('Loss')\n",
        "plt.title('Loss Plot')\n",
        "plt.show()"
      ],
      "execution_count": null,
      "outputs": []
    },
    {
      "cell_type": "markdown",
      "metadata": {
        "id": "xGvOcLQKghXN"
      },
      "source": [
        "## Caption Prediction"
      ]
    },
    {
      "cell_type": "markdown",
      "metadata": {
        "id": "4G-7gBv65PHx"
      },
      "source": [
        "### Greedy search algorithm"
      ]
    },
    {
      "cell_type": "code",
      "metadata": {
        "ExecuteTime": {
          "end_time": "2021-07-26T15:45:07.120666Z",
          "start_time": "2021-07-26T15:45:07.097768Z"
        },
        "id": "RCWpDtyNRPGs"
      },
      "source": [
        "# greedy search algoritm for caption generation/prediction and attention plot\n",
        "def evaluate(image):\n",
        "    attention_plot = np.zeros((max_length, attention_features_shape))\n",
        "\n",
        "    hidden = decoder.reset_state(batch_size=1)\n",
        "\n",
        "    temp_input = tf.expand_dims(load_image(image)[0], 0)\n",
        "    img_tensor_val = image_features_extract_model(temp_input)\n",
        "    img_tensor_val = tf.reshape(\n",
        "        img_tensor_val, (img_tensor_val.shape[0], -1, img_tensor_val.shape[3]))\n",
        "\n",
        "    features = encoder(img_tensor_val)\n",
        "\n",
        "    dec_input = tf.expand_dims([tokenizer.word_index['<start>']], 0)\n",
        "    result = []\n",
        "\n",
        "    for i in range(max_length):\n",
        "        predictions, hidden, attention_weights = decoder(\n",
        "            dec_input, features, hidden)\n",
        "\n",
        "        attention_plot[i] = tf.reshape(attention_weights, (-1, )).numpy()\n",
        "\n",
        "        predicted_id = tf.argmax(predictions, 1)[0].numpy()\n",
        "        result.append(tokenizer.index_word[predicted_id])\n",
        "\n",
        "        if tokenizer.index_word[predicted_id] == '<end>':\n",
        "            return result, attention_plot\n",
        "\n",
        "        dec_input = tf.expand_dims([predicted_id], 0)\n",
        "\n",
        "    attention_plot = attention_plot[:len(result), :]\n",
        "    return result, attention_plot"
      ],
      "execution_count": null,
      "outputs": []
    },
    {
      "cell_type": "markdown",
      "metadata": {
        "id": "PkVyJjoR5TRB"
      },
      "source": [
        "### Beam search algorithm\n"
      ]
    },
    {
      "cell_type": "code",
      "metadata": {
        "id": "b9nhIkaNt1lC"
      },
      "source": [
        "# beam search algoritm for caption prediction\n",
        "def beam_search_predictions(image, beam_index=2):\n",
        "    attention_plot = np.zeros((max_length, attention_features_shape))\n",
        "\n",
        "    hidden = decoder.reset_state(batch_size=1)\n",
        "\n",
        "    temp_input = tf.expand_dims(load_image(image)[0], 0)\n",
        "    img_tensor_val = image_features_extract_model(temp_input)\n",
        "    img_tensor_val = tf.reshape(\n",
        "        img_tensor_val, (img_tensor_val.shape[0], -1, img_tensor_val.shape[3]))\n",
        "\n",
        "    features = encoder(img_tensor_val)\n",
        "\n",
        "    dec_input = tf.expand_dims([tokenizer.word_index['<start>']], 0)\n",
        "    result = []\n",
        "    start = [tokenizer.word_index[\"<start>\"]]\n",
        "    start_word = [[start, 0.0]]\n",
        "    while len(start_word[0][0]) < max_length:\n",
        "        temp = []\n",
        "        for s in start_word:\n",
        "            dec_input = tf.expand_dims([s[0][-1]],1)\n",
        "            preds, hidden, attention_weights = decoder(\n",
        "                dec_input, features, hidden)\n",
        "            word_preds = np.argsort(preds[0])[-beam_index:]\n",
        "            for w in word_preds:\n",
        "                next_cap, prob = s[0][:], s[1]\n",
        "                next_cap.append(w)\n",
        "                prob += preds[0][w]\n",
        "                temp.append([next_cap, prob])\n",
        "\n",
        "        start_word = temp\n",
        "        # Sorting according to the probabilities\n",
        "        start_word = sorted(start_word, reverse=False, key=lambda l: l[1])\n",
        "        # Getting the top words\n",
        "        start_word = start_word[-beam_index:]\n",
        "\n",
        "    start_word = start_word[-1][0]\n",
        "    intermediate_caption = [tokenizer.index_word[i] for i in start_word]\n",
        "    final_caption = []\n",
        "\n",
        "    for i in intermediate_caption:\n",
        "        if i != '<end>':\n",
        "            final_caption.append(i)\n",
        "        else:\n",
        "            break\n",
        "\n",
        "    final_caption = ' '.join(final_caption[1:])\n",
        "    return final_caption"
      ],
      "execution_count": null,
      "outputs": []
    },
    {
      "cell_type": "markdown",
      "metadata": {
        "id": "psSGBMib5Y4I"
      },
      "source": [
        "### Attention plot for visualisation"
      ]
    },
    {
      "cell_type": "code",
      "metadata": {
        "ExecuteTime": {
          "end_time": "2021-07-26T15:45:07.745015Z",
          "start_time": "2021-07-26T15:45:07.728015Z"
        },
        "id": "fD_y7PD6RPGt"
      },
      "source": [
        "# function to plot attention using attention weights\n",
        "def plot_attention(image, result, attention_plot):\n",
        "    temp_image = np.array(Image.open(image))\n",
        "\n",
        "    fig = plt.figure(figsize=(10, 10))\n",
        "\n",
        "    len_result = len(result)\n",
        "    for i in range(len_result):\n",
        "        temp_att = np.resize(attention_plot[i], (7, 7))\n",
        "        grid_size = max(np.ceil(len_result/2), 2)\n",
        "        ax = fig.add_subplot(grid_size, grid_size, i+1)\n",
        "        ax.set_title(result[i])\n",
        "        img = ax.imshow(temp_image)\n",
        "        ax.imshow(temp_att, cmap='gray', alpha=0.6, extent=img.get_extent())\n",
        "\n",
        "    plt.tight_layout()\n",
        "    plt.show()"
      ],
      "execution_count": null,
      "outputs": []
    },
    {
      "cell_type": "markdown",
      "metadata": {
        "id": "E5frpVmYBJJx"
      },
      "source": [
        "## captions on the validation set"
      ]
    },
    {
      "cell_type": "code",
      "metadata": {
        "ExecuteTime": {
          "end_time": "2021-07-26T15:45:13.822712Z",
          "start_time": "2021-07-26T15:45:09.648761Z"
        },
        "id": "7x8RiPHe_4qI"
      },
      "source": [
        "# predicted caption on a random image from the validation set\n",
        "rid = np.random.randint(0, len(img_name_val))\n",
        "image = img_name_val[rid]\n",
        "real_caption = ' '.join([tokenizer.index_word[i]\n",
        "                        for i in cap_val[rid] if i not in [0]])\n",
        "result, attention_plot = evaluate(image)\n",
        "img_ = mpimg.imread(image)\n",
        "plt.imshow(img_)\n",
        "print('Real Caption:', real_caption)\n",
        "print('Prediction Caption:', ' '.join(result))\n",
        "plot_attention(image, result, attention_plot)"
      ],
      "execution_count": null,
      "outputs": []
    },
    {
      "cell_type": "markdown",
      "metadata": {
        "id": "_LnnC1WC5eT9"
      },
      "source": [
        "## Accuracy metric\n",
        "\n",
        "creating a psuedo metric for accuracy . the cosine simlarity of the predicted and actual captions is greater than than the threshold value (0.9) cosidered as correct (which is absolutly not) but for the sake of understanding the model performance\n"
      ]
    },
    {
      "cell_type": "code",
      "metadata": {
        "id": "PXW4tlgb2nCS"
      },
      "source": [
        "!pip install sentence-transformers"
      ],
      "execution_count": null,
      "outputs": []
    },
    {
      "cell_type": "code",
      "metadata": {
        "ExecuteTime": {
          "end_time": "2021-07-26T15:45:25.900976Z",
          "start_time": "2021-07-26T15:45:24.626201Z"
        },
        "id": "NeTNIcY9NoK1"
      },
      "source": [
        "from sentence_transformers import SentenceTransformer\n",
        "model = SentenceTransformer('bert-base-nli-mean-tokens')"
      ],
      "execution_count": null,
      "outputs": []
    },
    {
      "cell_type": "code",
      "metadata": {
        "id": "0JxAA-Up5ium"
      },
      "source": [
        "# similarity threshold \n",
        "threshold = 0.9\n",
        "# psudeo accuracy calculation for random 100 images in validation set\n",
        "correct=0\n",
        "real_captions=[]\n",
        "for ind in range(len(img_name_val[:100])):\n",
        "    img = img_name_val[ind]\n",
        "    captions = img_to_cap_vector[img]\n",
        "    for cap in captions:\n",
        "        temp = ' '.join([tokenizer.index_word[i] for i in cap if i not in [0]])\n",
        "        temp = temp.replace('<start>', ' ')\n",
        "        temp = temp.replace('<end>', ' ')\n",
        "        real_captions.append(temp)\n",
        "    result, attention_plot = evaluate(img)\n",
        "    res = ' '.join(result)\n",
        "    result = res.replace('<end>', ' ')\n",
        "    encodings = model.encode(real_captions)\n",
        "    result_encoding = model.encode(result)\n",
        "    sim_mat = 1 - (cdist(encodings, [result_encoding], 'cosine'))\n",
        "    max_index = np.argmax(sim_mat)\n",
        "    similarity = sim_mat[max_index]\n",
        "    if similarity > threshold:\n",
        "        correct = correct+1\n",
        "    if (ind+1)%10 == 0:\n",
        "        print('Accuracy of {} images is {} %'.format(ind+1,(correct/(ind+1))*100))\n",
        "accuracy = (correct/len(img_name_val[:100]))*100\n",
        "print(\"Accuracy of validation images : {} %\".format(accuracy)) "
      ],
      "execution_count": null,
      "outputs": []
    },
    {
      "cell_type": "markdown",
      "metadata": {
        "id": "eK__riAsCJ1f"
      },
      "source": [
        "# Captions on test images"
      ]
    },
    {
      "cell_type": "code",
      "metadata": {
        "ExecuteTime": {
          "end_time": "2021-07-26T15:50:39.026143Z",
          "start_time": "2021-07-26T15:50:39.005131Z"
        },
        "id": "0iIFYikdCGUh"
      },
      "source": [
        "# the cosine similarity of a random image in the test dataset\n",
        "def similarity_score(index=None, verbose=True, view_image=False):\n",
        "    \"\"\" index : the index of the test image in the img_name_test list.\n",
        "                if none select a random image\n",
        "        verbose: show text \n",
        "        view_image: display the the image\"\"\"\n",
        "    real_captions = []\n",
        "    if index == None or index >= len(img_name_test):\n",
        "        rid = np.random.randint(0, len(img_name_test))\n",
        "    else:\n",
        "        rid = index\n",
        "    image = img_name_test[rid]\n",
        "    a = img_to_cap_vector[image]\n",
        "    for cap in a:\n",
        "        temp = ' '.join([tokenizer.index_word[i] for i in cap if i not in [0]])\n",
        "        temp = temp.replace('<start>', ' ')\n",
        "        temp = temp.replace('<end>', ' ')\n",
        "        real_captions.append(temp)\n",
        "    result, attention_plot = evaluate(image)\n",
        "    res = ' '.join(result)\n",
        "    result = res.replace('<end>', ' ')\n",
        "    encodings = model.encode(real_captions)\n",
        "    result_encoding = model.encode(result)\n",
        "    sim_mat = 1 - (cdist(encodings, [result_encoding], 'cosine'))\n",
        "    max_index = np.argmax(sim_mat)\n",
        "    similarity = sim_mat[max_index]\n",
        "\n",
        "    if verbose:\n",
        "        print(\n",
        "            'maximm cosine similarity from the 5 true captions and the predicted caption : ',\n",
        "            similarity)\n",
        "        print(\"true caption : \", real_captions[max_index])\n",
        "        print('Prediction Caption:', result)\n",
        "        if view_image:\n",
        "            img = mpimg.imread(image)\n",
        "            imgplot = plt.imshow(img)\n",
        "    return similarity"
      ],
      "execution_count": null,
      "outputs": []
    },
    {
      "cell_type": "code",
      "metadata": {
        "ExecuteTime": {
          "end_time": "2021-07-27T05:08:43.165980Z",
          "start_time": "2021-07-27T05:08:39.401408Z"
        },
        "id": "G2Lu-uNmTz7b"
      },
      "source": [
        "similarity_score(20,view_image=True)"
      ],
      "execution_count": null,
      "outputs": []
    },
    {
      "cell_type": "code",
      "metadata": {
        "ExecuteTime": {
          "end_time": "2021-07-26T07:48:21.275433Z",
          "start_time": "2021-07-26T07:48:21.260433Z"
        },
        "id": "Qj_pDMN2CGXM"
      },
      "source": [
        "# cosine similarity of n random test images and their mean\n",
        "def mean_similarity_n_images(n=10):\n",
        "  similarities=[]\n",
        "  randomlist = random.sample(range(0, len(img_name_test)), n)\n",
        "  for i in randomlist:\n",
        "    similarity = similarity_score(verbose=False)\n",
        "    similarities.append(similarity)\n",
        "  mean_similarity =sum( similarities)/len(similarities)\n",
        "  print('mean cosine similarity of {} random images : '.format(n),mean_similarity)\n",
        "  return similarities , mean_similarity"
      ],
      "execution_count": null,
      "outputs": []
    },
    {
      "cell_type": "code",
      "metadata": {
        "ExecuteTime": {
          "end_time": "2021-07-26T07:48:43.894482Z",
          "start_time": "2021-07-26T07:48:40.432513Z"
        },
        "id": "x4QVx_AUCGaF"
      },
      "source": [
        "b = mean_similarity_n_images()"
      ],
      "execution_count": null,
      "outputs": []
    },
    {
      "cell_type": "code",
      "metadata": {
        "ExecuteTime": {
          "end_time": "2021-07-27T10:08:08.650474Z",
          "start_time": "2021-07-27T10:08:08.624474Z"
        },
        "id": "VU0DxyGf0RsM"
      },
      "source": [
        "# predict a image from your local directory\n",
        "def greedy_predict(path):\n",
        "    filename = os.path.abspath(path)\n",
        "    img = Image.open(path)\n",
        "    result, attention_plot = evaluate(path)\n",
        "    res = ' '.join(result)\n",
        "    result = res.replace('<end>',' ')\n",
        "    print('Prediction Caption:', result)\n",
        "    img_ = mpimg.imread(filename)\n",
        "    plt.imshow(img_)"
      ],
      "execution_count": null,
      "outputs": []
    },
    {
      "cell_type": "code",
      "metadata": {
        "ExecuteTime": {
          "end_time": "2021-07-27T10:08:21.029415Z",
          "start_time": "2021-07-27T10:08:18.363591Z"
        },
        "id": "XubIH8N80RsM"
      },
      "source": [
        "path = 'example.jpg'\n",
        "greedy_predict(path)"
      ],
      "execution_count": null,
      "outputs": []
    },
    {
      "cell_type": "markdown",
      "metadata": {
        "id": "uy-dPOab1HPI"
      },
      "source": [
        "# Video Summariser"
      ]
    },
    {
      "cell_type": "markdown",
      "metadata": {
        "id": "Z-ec2zAL1hlQ"
      },
      "source": [
        "## Converting Video into frames"
      ]
    },
    {
      "cell_type": "code",
      "metadata": {
        "id": "9L0MXiqa1yQe"
      },
      "source": [
        "import cv2\n",
        "list=[]\n",
        "# Opens the Video file\n",
        "cap= cv2.VideoCapture('/content/samplevideo.mp4')\n",
        "i=0\n",
        "while(cap.isOpened()):\n",
        "    ret, frame = cap.read()\n",
        "    if ret == False:\n",
        "        total= i\n",
        "        # 'total number of frames-1'  for the video\n",
        "        print(total)\n",
        "        break\n",
        "    file_name_path = '/content/frames/frame' + str(i) + '.jpg' \n",
        "    list.append(file_name_path)   \n",
        "    cv2.imwrite(file_name_path,frame)\n",
        "    i+=1\n",
        " \n",
        "cap.release()\n",
        "cv2.destroyAllWindows()"
      ],
      "execution_count": null,
      "outputs": []
    },
    {
      "cell_type": "code",
      "metadata": {
        "id": "hrLVo98o0RsM"
      },
      "source": [
        "i=0\n",
        "predics=[]\n",
        "# empty list to append the predicted captions for all the frames\n",
        "while i<total:\n",
        "  image = list[i]\n",
        "  result, attention_plot = evaluate(image)\n",
        "  res = ' '.join(result)\n",
        "  result = res.replace('<end>',' ')\n",
        "  predics.append(result)\n",
        "  #list where captions associated to all frames of video are stored \n",
        "  i=i+60\n",
        "  #taking 1 frame out of every 60 frames\n",
        "  #considering 1 frame for every 2 seconds"
      ],
      "execution_count": null,
      "outputs": []
    },
    {
      "cell_type": "code",
      "metadata": {
        "id": "SIij3rpq2qnc"
      },
      "source": [
        "#Remove one of the consecutive image caption greater than certain cosine similarity threshold between the two captions\n",
        "# threshold value is 0.50\n",
        "import math\n",
        "i=0\n",
        "n=math.floor((total/60)+1)\n",
        "from sentence_transformers import SentenceTransformer\n",
        "from sklearn.metrics.pairwise import cosine_similarity\n",
        "while i<n-1:\n",
        "  sentences=[]\n",
        "  sentences.append(predics[i])\n",
        "  if len(predics)>=i+1:\n",
        "    break\n",
        "  else:  \n",
        "    sentences.append(predics[i+1])\n",
        "  model=SentenceTransformer('bert-base-nli-mean-tokens')\n",
        "  sentence_embeddings=model.encode(sentences)\n",
        "  #sentence_embeddings.shape\n",
        "  cs=cosine_similarity([sentence_embeddings[0]],sentence_embeddings[1])\n",
        "  if cs>0.50:\n",
        "    del predics[i]\n",
        "  else:\n",
        "    i=i+1  \n"
      ],
      "execution_count": null,
      "outputs": []
    },
    {
      "cell_type": "code",
      "metadata": {
        "id": "d-fiyw7L3GUq"
      },
      "source": [
        "#number of sentences removed by threshold\n",
        "print(n-len(predics))"
      ],
      "execution_count": null,
      "outputs": []
    },
    {
      "cell_type": "markdown",
      "metadata": {
        "id": "ZyfyaxKA3Yul"
      },
      "source": [
        "#Summarizing the Text using T5 base Transformer"
      ]
    },
    {
      "cell_type": "code",
      "metadata": {
        "id": "zbBl5D4o3UQf"
      },
      "source": [
        "Text=\" \"\n",
        "Text=Text+predics[0]\n",
        "#concat all sentences in list and convert it into one paragraph\n",
        "for i in range(1,int(n)):\n",
        "  Text=Text+\".\"+predics[i]"
      ],
      "execution_count": null,
      "outputs": []
    },
    {
      "cell_type": "code",
      "metadata": {
        "id": "IZbcAAJB3jya"
      },
      "source": [
        "from transformers import T5ForConditionalGeneration, T5Tokenizer\n",
        "# initialize the model architecture and weights\n",
        "model = T5ForConditionalGeneration.from_pretrained(\"t5-large\")\n",
        "# initialize the model tokenizer\n",
        "t5_tokenizer = T5Tokenizer.from_pretrained(\"t5-large\")"
      ],
      "execution_count": null,
      "outputs": []
    },
    {
      "cell_type": "code",
      "metadata": {
        "id": "MT-EsoZC4NvL"
      },
      "source": [
        "#encode the text into tensor of integers using the appropriate tokenizer\n",
        "inputs = t5_tokenizer.encode(\"summarize: \" + Text, return_tensors=\"pt\",truncation=True)"
      ],
      "execution_count": null,
      "outputs": []
    },
    {
      "cell_type": "code",
      "metadata": {
        "id": "KC145Uhb4YP_"
      },
      "source": [
        "# summary output generation in form of tokens\n",
        "outputs = model.generate(\n",
        "    inputs, \n",
        "    max_length=512, \n",
        "    min_length=50, \n",
        "    length_penalty=2.0, \n",
        "    num_beams=4, \n",
        "    early_stopping=True)\n",
        "print(outputs)"
      ],
      "execution_count": null,
      "outputs": []
    },
    {
      "cell_type": "code",
      "metadata": {
        "id": "_M1iHR_o4e08"
      },
      "source": [
        "#Final Summarized output\n",
        "print(t5_tokenizer.decode(outputs[0]))"
      ],
      "execution_count": null,
      "outputs": []
    }
  ]
}
